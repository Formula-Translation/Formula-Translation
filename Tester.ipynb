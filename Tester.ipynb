{
  "nbformat": 4,
  "nbformat_minor": 0,
  "metadata": {
    "colab": {
      "provenance": [],
      "include_colab_link": true
    },
    "kernelspec": {
      "name": "python3",
      "display_name": "Python 3"
    },
    "language_info": {
      "name": "python"
    }
  },
  "cells": [
    {
      "cell_type": "markdown",
      "metadata": {
        "id": "view-in-github",
        "colab_type": "text"
      },
      "source": [
        "<a href=\"https://colab.research.google.com/github/Formula-Translation/Formula-Translation/blob/master/Tester.ipynb\" target=\"_parent\"><img src=\"https://colab.research.google.com/assets/colab-badge.svg\" alt=\"Open In Colab\"/></a>"
      ]
    },
    {
      "cell_type": "code",
      "execution_count": null,
      "metadata": {
        "id": "BAEwkgWGszjm",
        "outputId": "0eb461b8-b72b-4c41-b3a5-a789748f6167",
        "colab": {
          "base_uri": "https://localhost:8080/",
          "height": 142
        }
      },
      "outputs": [
        {
          "output_type": "error",
          "ename": "SyntaxError",
          "evalue": "ignored",
          "traceback": [
            "\u001b[0;36m  File \u001b[0;32m\"<ipython-input-1-95beff575086>\"\u001b[0;36m, line \u001b[0;32m39\u001b[0m\n\u001b[0;31m    r = requests.delete(baseurl + f\"/project/delete/{project[\"_id\"]}\")\u001b[0m\n\u001b[0m                                                              ^\u001b[0m\n\u001b[0;31mSyntaxError\u001b[0m\u001b[0;31m:\u001b[0m f-string: unmatched '['\n"
          ]
        }
      ],
      "source": [
        "import requests\n",
        "import json\n",
        "\n",
        "baseurl = \"http://localhost:8080\"\n",
        "headers = {'Content-type': 'application/json'}\n",
        "\n",
        "def printj(dict):\n",
        "    print(json.dumps(dict, indent=2))\n",
        "\n",
        "def all_usersId():\n",
        "    fp = open(\"users.json\", \"r\")\n",
        "    users = json.load(fp)\n",
        "    fp.close()\n",
        "    return [user[\"_id\"] for user in users]\n",
        "\n",
        "def create_project():\n",
        "    users_id = all_usersId()\n",
        "    project = {\n",
        "    \"name\": \"Elle\",\n",
        "    \"advisors\": [users_id[i] for i in range(2)],\n",
        "    \"co_advisors\": [users_id[i] for i in range(2,4)],\n",
        "    \"advisee\": [users_id[i] for i in range(4,6)]\n",
        "    }\n",
        "    r = requests.post(baseurl + \"/project/create\", data=json.dumps(project), headers=headers)\n",
        "    printj(r.status_code)\n",
        "    return r.json()\n",
        "\n",
        "def get_folder(folder_id: str):\n",
        "    r = requests.get(baseurl + f\"/folder/{folder_id}\")\n",
        "    printj(r.status_code)\n",
        "    if r.status_code == 200:\n",
        "        return r.json()\n",
        "    return {\"child\":{}}\n",
        "\n",
        "def get_childId(root_id: str):\n",
        "    return [child[\"_id\"] for child in get_folder(root_id)[\"child\"]]\n",
        "\n",
        "def delete_project(project):\n",
        "    r = requests.delete(baseurl + f\"/project/delete/{project[\"_id\"]}\")\n",
        "    printj(r.status_code)\n",
        "    if r.status_code == 200:\n",
        "        return r.json()\n",
        "\n",
        "def create_plan(project):\n",
        "    body = {\n",
        "        \"project_id\": project[\"_id\"],\n",
        "        \"name\": \"Plan\",\n",
        "        \"description\": \"This is a test plan\",\n",
        "        \"start_date\": \"2019-01-01\",\n",
        "        \"end_date\": \"2019-01-31\",\n",
        "        \"task\": True\n",
        "    }\n",
        "    r = requests.post(baseurl + \"/plan/create\", data=json.dumps(body), headers=headers)\n",
        "    if r.status_code == 200:\n",
        "        return r.json()\n",
        "\n",
        "def create_folder(plan: dict):\n",
        "    body = {\n",
        "    \"name\": plan[\"name\"]+\"\\'s folder\",\n",
        "    \"parent\": plan[\"folder_id\"]\n",
        "    }\n",
        "    r = requests.post(baseurl + \"/folder/create\", data=json.dumps(body), headers=headers)\n",
        "    if r.status_code == 200:\n",
        "        return r.json()\n",
        "\n",
        "def create_summary(project: dict, plan: dict, file_id: str):\n",
        "    body = {\n",
        "        \"project_id\": project[\"_id\"],\n",
        "        \"plan_id\": plan[\"_id\"],\n",
        "        \"reciever_id\": project[\"advisors\"][0],\n",
        "        \"sender_id\": project[\"advisee\"][0],\n",
        "        \"comment\": \"กากไป ไปทำมาใหม่\",\n",
        "        \"file_id\": file_id,\n",
        "        \"chat_id\": plan[\"chat_id\"],\n",
        "        \"progress\": 0\n",
        "    }\n",
        "    r = requests.post(baseurl + \"/summary/create\", data=json.dumps(body), headers=headers)\n",
        "    if r.status_code == 200:\n",
        "        return r.json()\n",
        "\n",
        "def create_file(name: str, folder: dict):\n",
        "    body = {\n",
        "        \"name\": name,\n",
        "        \"url\": \"https://www.google.com\",\n",
        "        \"size\": 100,\n",
        "        \"type\": \"pdf\",\n",
        "        \"memo\": \"This is a test file โง่ๆ\",\n",
        "    }\n",
        "    r = requests.post(baseurl + \"/file/create\", data=json.dumps(body), headers=headers)\n",
        "    requests.put(baseurl + \"/addFile\", data={\"id\": folder[\"_id\"], \"file_id\": [r.json()[\"_id\"]]})\n",
        "    if r.status_code == 200:\n",
        "        return r.json()\n"
      ]
    },
    {
      "cell_type": "code",
      "source": [
        "project = create_project()"
      ],
      "metadata": {
        "id": "9z2HPPX6tJrG"
      },
      "execution_count": null,
      "outputs": []
    },
    {
      "cell_type": "code",
      "source": [
        "project= json.dumps({\n",
        "  \"_id\": \"35f4e88a-31c2-4d27-bb31-d5149a28896c\",\n",
        "  \"name\": \"Elle\",\n",
        "  \"progress\": 0,\n",
        "  \"status\": {\n",
        "    \"id\": 1,\n",
        "    \"name\": \"Proposal\",\n",
        "    \"order\": 1\n",
        "  },\n",
        "  \"advisors\": [\n",
        "    \"OU3mOuC6dxg1nPtQKq74Ca9H8hx1\",\n",
        "    \"uKzo5nw8izPHCBleRKErvxDh6DF2\"\n",
        "  ],\n",
        "  \"co_advisors\": [\n",
        "    \"fJjXVhQrP9RWagv2paNWAamDE9I2\",\n",
        "    \"KxJPq8pCvJalZXc3NW4p7Zrz6a13\"\n",
        "  ],\n",
        "  \"advisee\": [\n",
        "    \"CXt0W5FFPWg6ony9OWOcdYWpQNV2\",\n",
        "    \"CW6BYt9wNOcTyCugpb5fWsiZUKH3\"\n",
        "  ],\n",
        "  \"chat_id\": \"ddd67ddc-64fd-46f5-96f4-3215b1a9abb4\",\n",
        "  \"folder_id\": \"3cf34684-5f0b-4eb6-aec5-50862c9ed14c\",\n",
        "  \"createdAt\": {\n",
        "    \"$date\": {\n",
        "      \"$numberLong\": \"1694275068977\"\n",
        "    }\n",
        "  },\n",
        "  \"updatedAt\": {\n",
        "    \"$date\": {\n",
        "      \"$numberLong\": \"1694275068977\"\n",
        "    }\n",
        "  },\n",
        "  \"__v\": 0\n",
        "})"
      ],
      "metadata": {
        "id": "c0htWdZFzu9E"
      },
      "execution_count": null,
      "outputs": []
    },
    {
      "cell_type": "code",
      "source": [
        "project_id = project[\"_id\"]\n",
        "folder_id = project[\"folder_id\"]\n",
        "childs_id = get_childId(folder_id)"
      ],
      "metadata": {
        "id": "ceZ1Nh4ytMfy"
      },
      "execution_count": null,
      "outputs": []
    }
  ]
}